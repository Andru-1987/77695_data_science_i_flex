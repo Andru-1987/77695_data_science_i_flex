{
 "cells": [
  {
   "cell_type": "code",
   "execution_count": null,
   "id": "712a7580",
   "metadata": {},
   "outputs": [],
   "source": [
    "from IPython.display import HTML\n",
    "\n",
    "HTML(\"\"\"\n",
    "<h2>¿Qué es Seaborn?</h2>\n",
    "\n",
    "<p><strong>Seaborn</strong> es una librería de visualización de datos en Python basada en <strong>Matplotlib</strong>, que proporciona una interfaz de alto nivel para crear gráficos estadísticos atractivos y fáciles de interpretar.</p>\n",
    "\n",
    "<p>Seaborn facilita:</p>\n",
    "<ul>\n",
    "  <li>Visualizaciones estadísticas como <em>boxplots</em>, <em>violin plots</em>, <em>heatmaps</em>, <em>pair plots</em>, <em>regresiones lineales</em>, etc.</li>\n",
    "  <li>Trabajar directamente con DataFrames de <code>pandas</code>.</li>\n",
    "  <li>Aplicar estilos estéticos consistentes y más agradables que los gráficos por defecto de <code>Matplotlib</code>.</li>\n",
    "</ul>\n",
    "\n",
    "<style>\n",
    "    h2 { color: #2c3e50; }\n",
    "    p, li { font-size: 16px; line-height: 1.5; }\n",
    "    ul { margin-top: 0; }\n",
    "</style>\n",
    "\"\"\")\n",
    "\n",
    "\n"
   ]
  },
  {
   "cell_type": "code",
   "execution_count": null,
   "id": "616bb1a6",
   "metadata": {},
   "outputs": [],
   "source": [
    "import seaborn as sns\n",
    "import pandas as pd\n",
    "import matplotlib.pyplot as plt\n"
   ]
  },
  {
   "cell_type": "code",
   "execution_count": null,
   "id": "377d6e48",
   "metadata": {},
   "outputs": [],
   "source": [
    "\n",
    "# Dataset de ejemplo\n",
    "df = sns.load_dataset(\"iris\")\n",
    "\n",
    "# Scatterplot con Seaborn\n",
    "sns.scatterplot(data=df, x=\"sepal_length\", y=\"sepal_width\", hue=\"species\")\n",
    "plt.title(\"Largo vs Ancho del Sépalo\")\n",
    "plt.show()\n"
   ]
  },
  {
   "cell_type": "code",
   "execution_count": null,
   "id": "74340762",
   "metadata": {},
   "outputs": [],
   "source": [
    "import matplotlib.pyplot as plt\n",
    "import pandas as pd\n",
    "import seaborn as sns  # for sample data\n",
    "from matplotlib.lines import Line2D  # for legend handle\n",
    "\n",
    "# DataFrame used for all options\n",
    "diamonds = sns.load_dataset('diamonds')"
   ]
  },
  {
   "cell_type": "code",
   "execution_count": null,
   "id": "9b50892b",
   "metadata": {},
   "outputs": [],
   "source": [
    "diamonds.head()"
   ]
  },
  {
   "cell_type": "code",
   "execution_count": null,
   "id": "8934dadd",
   "metadata": {},
   "outputs": [],
   "source": [
    "fig, ax = plt.subplots(figsize=(6, 6))\n",
    "\n",
    "colors = {'D':'tab:blue', 'E':'tab:orange', 'F':'tab:green', 'G':'tab:red', 'H':'tab:purple', 'I':'tab:brown', 'J':'tab:pink'}\n",
    "\n",
    "ax.scatter(diamonds['carat'], diamonds['price'], c=diamonds['color'].map(colors))\n",
    "\n",
    "# add a legend\n",
    "handles = [Line2D([0], [0], marker='o', color='w', markerfacecolor=v, label=k, markersize=8) for k, v in colors.items()]\n",
    "ax.legend(title='color', handles=handles, bbox_to_anchor=(1.05, 1), loc='upper left')\n",
    "\n",
    "plt.show()"
   ]
  },
  {
   "cell_type": "code",
   "execution_count": null,
   "id": "c047350a",
   "metadata": {},
   "outputs": [],
   "source": [
    "# sns.scatterplot(x='carat', y='price', data=diamonds, hue='color', ec=None)\n",
    "# sns.lmplot(x='carat', y='price', data=diamonds, hue='color', fit_reg=False)\n",
    "\n",
    "# Diccionario de colores por cada categoría de 'color'\n",
    "colors = {'D': 'tab:blue', 'E': 'tab:orange', 'F': 'tab:green', \n",
    "          'G': 'tab:red', 'H': 'tab:purple', 'I': 'tab:brown', 'J': 'tab:pink'}\n",
    "\n",
    "# Crear FacetGrid: un subplot por cada valor de 'color'\n",
    "g = sns.FacetGrid(data=diamonds, col=\"color\", col_wrap=4)\n",
    "\n",
    "# Función personalizada para aplicar color específico\n",
    "def colored_scatter(data, color=None, **kwargs):\n",
    "    color_key = data['color'].iloc[0]\n",
    "    sns.scatterplot(data=data, x=\"carat\", y=\"price\", color=colors[color_key], **kwargs)\n",
    "\n",
    "# Mapear función al grid\n",
    "g.map_dataframe(colored_scatter, alpha=0.6)\n",
    "\n",
    "# Etiquetas y ajustes\n",
    "g.set_axis_labels(\"Carat\", \"Price\")\n",
    "g.set_titles(col_template=\"{col_name}\")\n",
    "g.tight_layout()\n",
    "plt.show()"
   ]
  },
  {
   "cell_type": "code",
   "execution_count": null,
   "id": "8d181950",
   "metadata": {},
   "outputs": [],
   "source": [
    "import seaborn as sns\n",
    "df = sns.load_dataset(\"penguins\")\n",
    "\n",
    "g = sns.FacetGrid(df, col=\"species\", row=\"sex\", hue=\"island\")\n",
    "g.map_dataframe(sns.scatterplot, x=\"flipper_length_mm\", y=\"body_mass_g\")\n",
    "g.add_legend();"
   ]
  },
  {
   "cell_type": "markdown",
   "id": "6425d74c",
   "metadata": {},
   "source": [
    "# Generar graficos con ejes compartidos (sobre todo en casos de uso con temporalidad)"
   ]
  },
  {
   "cell_type": "code",
   "execution_count": null,
   "id": "03e019b9",
   "metadata": {},
   "outputs": [],
   "source": [
    "url_local = \"./storage/ventas_dataset_actdeclase.csv\"\n",
    "ventas_df = pd.read_csv(url_local, sep=\",\")"
   ]
  },
  {
   "cell_type": "code",
   "execution_count": null,
   "id": "2e9aecec",
   "metadata": {},
   "outputs": [],
   "source": [
    "ventas_df.head()"
   ]
  },
  {
   "cell_type": "code",
   "execution_count": null,
   "id": "2970c744",
   "metadata": {},
   "outputs": [],
   "source": [
    "# Asegurarse que la columna Mes sea fecha\n",
    "ventas_df[\"Mes\"] = pd.to_datetime(ventas_df[\"Mes\"])"
   ]
  },
  {
   "cell_type": "code",
   "execution_count": null,
   "id": "f0015589",
   "metadata": {},
   "outputs": [],
   "source": [
    "def graficar_ventas_todos_los_productos(ventas_df):\n",
    "    # Asegurar que 'Mes' sea datetime y esté ordenado\n",
    "    ventas_df = ventas_df.copy()\n",
    "    \n",
    "    ventas_df[\"Mes\"] = pd.to_datetime(ventas_df[\"Mes\"])\n",
    "    ventas_df = ventas_df.sort_values(\"Mes\")\n",
    "    \n",
    "    # Crear el gráfico\n",
    "    plt.figure(figsize=(14, 6))\n",
    "    \n",
    "    sns.lineplot(\n",
    "        data=ventas_df,\n",
    "        x=\"Mes\",\n",
    "        y=\"Ventas\",\n",
    "        hue=\"Producto\",\n",
    "        marker=\"o\"\n",
    "    )\n",
    "    plt.title(\"Ventas por Producto a lo largo del tiempo\")\n",
    "    plt.xlabel(\"Mes\")\n",
    "    plt.ylabel(\"Ventas\")\n",
    "    plt.xticks(rotation=45)\n",
    "    plt.tight_layout()\n",
    "    plt.show()"
   ]
  },
  {
   "cell_type": "code",
   "execution_count": null,
   "id": "28971a14",
   "metadata": {},
   "outputs": [],
   "source": [
    "graficar_ventas_todos_los_productos(ventas_df)"
   ]
  },
  {
   "cell_type": "code",
   "execution_count": null,
   "id": "e1331791",
   "metadata": {},
   "outputs": [],
   "source": [
    "# ordeno por ventas\n",
    "ventas_df = ventas_df.sort_values(\"Mes\")\n",
    "\n",
    "# obtengo los productos unicos\n",
    "productos = ventas_df[\"Producto\"].unique()\n",
    "\n",
    "# Función para graficar todas las métricas por producto\n",
    "def graficar_todos_los_productos(ventas_df):\n",
    "    for producto in productos:\n",
    "        ventas_df_prod = ventas_df[ventas_df[\"Producto\"] == producto]\n",
    "        \n",
    "        # Crear figura con 3 subplots\n",
    "        fig, axes = plt.subplots(3, 1, figsize=(12, 9), sharex=True)\n",
    "        \n",
    "        sns.lineplot(data=ventas_df_prod, x=\"Mes\", y=\"Ventas\", hue=\"Region\", ax=axes[0], marker=\"o\")\n",
    "        axes[0].set_title(f\"{producto} - Ventas\")\n",
    "\n",
    "        sns.lineplot(data=ventas_df_prod, x=\"Mes\", y=\"Satisfaccion_Cliente\", hue=\"Region\", ax=axes[1], marker=\"o\")\n",
    "        axes[1].set_title(f\"{producto} - Satisfacción del Cliente\")\n",
    "\n",
    "        sns.lineplot(data=ventas_df_prod, x=\"Mes\", y=\"Costo_Operativo\", hue=\"Region\", ax=axes[2], marker=\"o\")\n",
    "        axes[2].set_title(f\"{producto} - Costo Operativo\")\n",
    "\n",
    "        plt.suptitle(f\"Métricas para {producto}\", fontsize=16)\n",
    "        plt.xticks(rotation=45)\n",
    "        plt.tight_layout(rect=[0, 0.03, 1, 0.95])\n",
    "        plt.show()"
   ]
  },
  {
   "cell_type": "code",
   "execution_count": null,
   "id": "db9bd8f2",
   "metadata": {},
   "outputs": [],
   "source": [
    "# Aseguramos fechas ordenadas\n",
    "ventas_df[\"Mes\"] = pd.to_datetime(ventas_df[\"Mes\"])\n",
    "\n",
    "ventas_df =  ventas_df.sort_values(by=[\"Producto\",\"Mes\"])\n",
    "\n",
    "\n",
    "g = sns.FacetGrid(\n",
    "    ventas_df,\n",
    "    row=\"Producto\",  # <- cambia col por row\n",
    "    hue=\"Region\",\n",
    "    height=3,\n",
    "    aspect=2,  # más ancho para cada fila\n",
    "    sharex=True,\n",
    "    sharey=True\n",
    ")\n",
    "\n",
    "g.map(sns.lineplot, \"Mes\", \"Ventas\", marker=\"o\").add_legend()\n",
    "\n",
    "g.set_titles(row_template=\"{row_name}\")\n",
    "g.set_axis_labels(\"Mes\", \"Ventas\")\n",
    "\n",
    "# Rotar etiquetas del eje X\n",
    "for ax in g.axes.flat:\n",
    "    for label in ax.get_xticklabels():\n",
    "        label.set_rotation(45)\n",
    "\n",
    "plt.tight_layout()\n",
    "plt.show()\n",
    "\n"
   ]
  },
  {
   "cell_type": "code",
   "execution_count": null,
   "id": "9509588d",
   "metadata": {},
   "outputs": [],
   "source": [
    "# Aseguramos fechas ordenadas\n",
    "ventas_df[\"Mes\"] = pd.to_datetime(ventas_df[\"Mes\"])\n",
    "\n",
    "def plot_with_labels(data, color, label=None):\n",
    "    ax = plt.gca()\n",
    "    sns.lineplot(data=data, x=\"Mes\", y=\"Ventas\", hue=\"Region\", marker=\"o\", ax=ax, legend=False)\n",
    "    for _, row in data.iterrows():\n",
    "        ax.text(row[\"Mes\"], row[\"Ventas\"], f'{row[\"Ventas\"]:.0f}', color='black', ha='center', va='bottom', fontsize=8)\n",
    "\n",
    "# Crear FacetGrid con etiquetas\n",
    "g = sns.FacetGrid(ventas_df, col=\"Producto\", col_wrap=3, height=4, aspect=1.5)\n",
    "g.map_dataframe(plot_with_labels)\n",
    "g.set_titles(col_template=\"{col_name}\")\n",
    "g.set_axis_labels(\"Mes\", \"Ventas\")\n",
    "\n",
    "# Rotar etiquetas del eje X\n",
    "for ax in g.axes.flat:\n",
    "    for label in ax.get_xticklabels():\n",
    "        label.set_rotation(45)\n",
    "\n",
    "plt.tight_layout()\n",
    "plt.show()\n"
   ]
  },
  {
   "cell_type": "code",
   "execution_count": null,
   "id": "10955f67",
   "metadata": {},
   "outputs": [],
   "source": [
    "graficar_todos_los_productos(ventas_df)"
   ]
  },
  {
   "cell_type": "code",
   "execution_count": null,
   "id": "b62a6523",
   "metadata": {},
   "outputs": [],
   "source": [
    "df_ejercicio = sns.load_dataset('exercise')"
   ]
  },
  {
   "cell_type": "code",
   "execution_count": null,
   "id": "1100c70e",
   "metadata": {},
   "outputs": [],
   "source": [
    "df_ejercicio = df_ejercicio.drop('Unnamed: 0', axis='columns')\n",
    "df_ejercicio.head()"
   ]
  },
  {
   "cell_type": "code",
   "execution_count": null,
   "id": "76216de3",
   "metadata": {},
   "outputs": [],
   "source": [
    "df_30_min = df_ejercicio[df_ejercicio['time'] == '30 min']"
   ]
  },
  {
   "cell_type": "markdown",
   "id": "225b3729",
   "metadata": {},
   "source": [
    "Los valores comunes de kind son:\n",
    "\n",
    "* \"hist\" → Histograma\n",
    "* \"kde\" → Densidad (KDE)\n",
    "* \"ecdf\" → Función de distribución acumulada\n",
    "\n"
   ]
  },
  {
   "cell_type": "code",
   "execution_count": null,
   "id": "84a63b88",
   "metadata": {},
   "outputs": [],
   "source": [
    "plt.figure()\n",
    "ax = sns.displot(data=df_30_min, x='pulse', kind='kde', hue='kind', fill=True)\n",
    "ax.set(xlabel='Frecuencia Cardíaca', ylabel='Densidad', title='Distribución  de las pulsaciones')\n",
    "plt.show();"
   ]
  },
  {
   "cell_type": "markdown",
   "id": "9a71f1b5",
   "metadata": {},
   "source": [
    "# Realizar un grafico de 3 dimensiones"
   ]
  },
  {
   "cell_type": "code",
   "execution_count": null,
   "id": "a89bd375",
   "metadata": {},
   "outputs": [],
   "source": [
    "import matplotlib.pyplot as plt\n",
    "# from mpl_toolkits.mplot3d import Axes3D  # Aunque no se usa directamente, es necesario importarlo\n",
    "import numpy as np\n",
    "\n",
    "# Datos de ejemplo\n",
    "np.random.seed(0)\n",
    "x = np.random.rand(50)\n",
    "y = np.random.rand(50)\n",
    "z = np.random.rand(50)\n",
    "\n",
    "# Crear figura y ejes 3D\n",
    "fig = plt.figure(figsize=(8,6))\n",
    "ax = fig.add_subplot(111, projection='3d')\n",
    "\n",
    "# Scatter plot 3D\n",
    "scatter = ax.scatter(x, y, z, c=z, cmap='viridis', s=50)\n",
    "\n",
    "# Etiquetas\n",
    "ax.set_xlabel('X')\n",
    "ax.set_ylabel('Y')\n",
    "ax.set_zlabel('Z')\n",
    "ax.set_title('Scatterplot 3D')\n",
    "\n",
    "# Barra de color\n",
    "fig.colorbar(scatter, ax=ax, label='Valor de Z')\n",
    "\n",
    "plt.show()\n"
   ]
  },
  {
   "cell_type": "code",
   "execution_count": null,
   "id": "3b29c5a6",
   "metadata": {},
   "outputs": [],
   "source": [
    "# import matplotlib.pyplot as plt\n",
    "# from mpl_toolkits.mplot3d import Axes3D\n",
    "# import pandas as pd\n",
    "# import numpy as np\n",
    "\n",
    "# Simulamos un dataset realista\n",
    "np.random.seed(42)\n",
    "n = 1000\n",
    "\n",
    "data = {\n",
    "    'Ventas': np.random.randint(100, 5000, n),  # ventas entre 100 y 5000\n",
    "    'Satisfaccion_Cliente': np.random.uniform(1, 5, n),  # puntaje 1 a 5\n",
    "    'Costo_Operativo': np.random.randint(500, 4000, n),  # costo entre 500 y 4000\n",
    "    'Region': np.random.choice(['Norte', 'Sur', 'Este', 'Oeste'], n),\n",
    "    'Producto': np.random.choice(['Producto_A', 'Producto_B', 'Producto_C'], n)\n",
    "}\n",
    "\n",
    "df = pd.DataFrame(data)\n",
    "\n",
    "# Crear figura y ejes 3D\n",
    "fig = plt.figure(figsize=(10, 7))\n",
    "ax = fig.add_subplot(111, projection='3d')\n",
    "\n",
    "# Mapear color por Región\n",
    "colores = {'Norte': 'red', 'Sur': 'blue', 'Este': 'green', 'Oeste': 'purple'}\n",
    "colors = df['Region'].map(colores)\n",
    "\n",
    "# Scatter plot 3D\n",
    "scatter = ax.scatter(\n",
    "    df['Ventas'], \n",
    "    df['Satisfaccion_Cliente'], \n",
    "    df['Costo_Operativo'], \n",
    "    c=colors, \n",
    "    s=60, \n",
    "    alpha=0.7,\n",
    "    label=df['Region']\n",
    ")\n",
    "\n",
    "# Etiquetas\n",
    "ax.set_xlabel('Ventas')\n",
    "ax.set_ylabel('Satisfacción Cliente')\n",
    "ax.set_zlabel('Costo Operativo')\n",
    "ax.set_title('Relación entre Ventas, Satisfacción y Costo por Región')\n",
    "\n",
    "# Leyenda personalizada\n",
    "from matplotlib.lines import Line2D\n",
    "legend_elements = [Line2D([0], [0], marker='o', color='w', label=reg, \n",
    "                          markerfacecolor=col, markersize=10) for reg, col in colores.items()]\n",
    "ax.legend(handles=legend_elements, title=\"Región\")\n",
    "\n",
    "plt.show()\n"
   ]
  }
 ],
 "metadata": {
  "kernelspec": {
   "display_name": "Python 3",
   "language": "python",
   "name": "python3"
  },
  "language_info": {
   "codemirror_mode": {
    "name": "ipython",
    "version": 3
   },
   "file_extension": ".py",
   "mimetype": "text/x-python",
   "name": "python",
   "nbconvert_exporter": "python",
   "pygments_lexer": "ipython3",
   "version": "3.13.3"
  }
 },
 "nbformat": 4,
 "nbformat_minor": 5
}
