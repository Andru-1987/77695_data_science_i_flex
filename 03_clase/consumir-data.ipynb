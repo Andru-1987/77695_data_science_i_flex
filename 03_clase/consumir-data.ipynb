{
 "cells": [
  {
   "cell_type": "markdown",
   "id": "e563f21a",
   "metadata": {},
   "source": [
    "## Ejemplos de consumo de fuentes de datos:\n",
    "- csv\n",
    "- json\n",
    "- url\n",
    "- sqlite"
   ]
  },
  {
   "cell_type": "code",
   "execution_count": null,
   "id": "5b6e5777",
   "metadata": {},
   "outputs": [],
   "source": [
    "import sqlite3\n",
    "import pandas as pd"
   ]
  },
  {
   "cell_type": "markdown",
   "id": "067b9aef",
   "metadata": {},
   "source": [
    "### Usando csv local"
   ]
  },
  {
   "cell_type": "code",
   "execution_count": null,
   "id": "1ed2b9f1",
   "metadata": {},
   "outputs": [],
   "source": [
    "local_data = pd.read_csv(\"./datasets/women_track_records.csv\")"
   ]
  },
  {
   "cell_type": "code",
   "execution_count": null,
   "id": "fbf0b9ba",
   "metadata": {},
   "outputs": [],
   "source": [
    "local_data.head()"
   ]
  },
  {
   "cell_type": "markdown",
   "id": "1144658b",
   "metadata": {},
   "source": [
    "### Usando json"
   ]
  },
  {
   "cell_type": "code",
   "execution_count": null,
   "id": "3739b6bd",
   "metadata": {},
   "outputs": [],
   "source": [
    "json_file = pd.read_json(\"https://raw.githubusercontent.com/Andru-1987/csv_files_ds/refs/heads/main/borough_data.json\").T\n",
    "json_file.reset_index(drop=True).rename(columns={\"index\": \"name\"}) "
   ]
  },
  {
   "cell_type": "markdown",
   "id": "e71fd9ea",
   "metadata": {},
   "source": [
    "### Usando URL"
   ]
  },
  {
   "cell_type": "code",
   "execution_count": null,
   "id": "f5aeb58e",
   "metadata": {},
   "outputs": [],
   "source": [
    "# Cargar los datos\n",
    "url = 'https://raw.githubusercontent.com/JJTorresDS/stocks-ds-edu/main/stocks.csv'\n",
    "stocks_df = pd.read_csv(url)\n",
    "stocks_df['formatted_date'] = pd.to_datetime(stocks_df['formatted_date'])\n",
    "\n",
    "# Establecer la fecha como índice\n",
    "stocks_df = stocks_df.set_index('formatted_date')\n",
    "\n",
    "# Las primeras filas del dataset\n",
    "stocks_df.head()"
   ]
  },
  {
   "cell_type": "markdown",
   "id": "8d01c973",
   "metadata": {},
   "source": [
    "### Usando SQLITE"
   ]
  },
  {
   "cell_type": "code",
   "execution_count": null,
   "id": "fde1a50d",
   "metadata": {},
   "outputs": [],
   "source": [
    "class SqliteDataBase:\n",
    "    def __init__(self, db_path):\n",
    "        self.db_path = db_path\n",
    "        \n",
    "    def read_query(self,query,params=None):\n",
    "        with sqlite3.connect(self.db_path) as conn:\n",
    "            # Leer directamente a DataFrame\n",
    "            if params:\n",
    "                df = pd.read_sql_query(query, conn, params=params)\n",
    "            else:\n",
    "                df = pd.read_sql_query(query, conn)\n",
    "        \n",
    "        return df\n",
    "\n",
    "    \n",
    "\n",
    "db_reader= SqliteDataBase(\"./datasets/telco_customer_churn.sqlite.db\")"
   ]
  },
  {
   "cell_type": "code",
   "execution_count": null,
   "id": "712e01fc",
   "metadata": {},
   "outputs": [],
   "source": [
    "query = \"\"\"\n",
    "    SELECT \n",
    "        gender,\n",
    "        SeniorCitizen,\n",
    "        Partner,\n",
    "        Dependents,\n",
    "        tenure,\n",
    "        PhoneService,\n",
    "        MultipleLines,\n",
    "        InternetService,\n",
    "        OnlineSecurity,\n",
    "        OnlineBackup,\n",
    "        DeviceProtection,\n",
    "        TechSupport,\n",
    "        StreamingTV,\n",
    "        StreamingMovies,\n",
    "        Contract,\n",
    "        PaperlessBilling,\n",
    "        PaymentMethod,\n",
    "        MonthlyCharges,\n",
    "        TotalCharges,\n",
    "        Churn = \"Yes\" AS Churn,\n",
    "        -- Features derivadas\n",
    "        CASE \n",
    "            WHEN tenure <= 12 THEN 'New'\n",
    "            WHEN tenure <= 36 THEN 'Regular' \n",
    "            ELSE 'Loyal'\n",
    "        END as customer_segment,\n",
    "        \n",
    "        CASE \n",
    "            WHEN MonthlyCharges < 35 THEN 'Low'\n",
    "            WHEN MonthlyCharges < 65 THEN 'Medium'\n",
    "            ELSE 'High'\n",
    "        END as price_segment,\n",
    "        \n",
    "        -- Número de servicios adicionales\n",
    "        (CASE WHEN OnlineSecurity = 'Yes' THEN 1 ELSE 0 END +\n",
    "            CASE WHEN OnlineBackup = 'Yes' THEN 1 ELSE 0 END +\n",
    "            CASE WHEN DeviceProtection = 'Yes' THEN 1 ELSE 0 END +\n",
    "            CASE WHEN TechSupport = 'Yes' THEN 1 ELSE 0 END +\n",
    "            CASE WHEN StreamingTV = 'Yes' THEN 1 ELSE 0 END +\n",
    "            CASE WHEN StreamingMovies = 'Yes' THEN 1 ELSE 0 END) as additional_services\n",
    "            \n",
    "    FROM telco_customer_churn\n",
    "    \"\"\""
   ]
  },
  {
   "cell_type": "code",
   "execution_count": null,
   "id": "3362cf26",
   "metadata": {},
   "outputs": [],
   "source": [
    "db_reader.read_query(query)"
   ]
  }
 ],
 "metadata": {
  "kernelspec": {
   "display_name": "77695_data_science_i_flex (3.11.2)",
   "language": "python",
   "name": "python3"
  },
  "language_info": {
   "codemirror_mode": {
    "name": "ipython",
    "version": 3
   },
   "file_extension": ".py",
   "mimetype": "text/x-python",
   "name": "python",
   "nbconvert_exporter": "python",
   "pygments_lexer": "ipython3",
   "version": "3.11.2"
  }
 },
 "nbformat": 4,
 "nbformat_minor": 5
}
