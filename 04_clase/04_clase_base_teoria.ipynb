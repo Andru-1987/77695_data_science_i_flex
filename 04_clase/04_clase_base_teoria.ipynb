{
 "cells": [
  {
   "cell_type": "markdown",
   "id": "20893c23",
   "metadata": {},
   "source": [
    "# Clase sobre imputacion de data y analisis de Valores Nulls"
   ]
  },
  {
   "cell_type": "code",
   "execution_count": 41,
   "id": "8f220dc3",
   "metadata": {},
   "outputs": [],
   "source": [
    "import pandas as pd\n",
    "import numpy as np"
   ]
  },
  {
   "cell_type": "code",
   "execution_count": 42,
   "id": "a01cc7cf",
   "metadata": {},
   "outputs": [],
   "source": [
    "URL_DATASET = \"https://raw.githubusercontent.com/jbrownlee/Datasets/master/pima-indians-diabetes.csv\""
   ]
  },
  {
   "cell_type": "code",
   "execution_count": 43,
   "id": "e2936bb5",
   "metadata": {},
   "outputs": [],
   "source": [
    "df = pd.read_csv(URL_DATASET, header=None, sep=\",\",names = ['Pregnancies', 'Glucose', 'BloodPressure', 'SkinThickness', 'Insulin', 'BMI', 'DiabetesPedigreeFunction', 'Age', 'Outcome'])"
   ]
  },
  {
   "cell_type": "code",
   "execution_count": 44,
   "id": "8f64098e",
   "metadata": {},
   "outputs": [],
   "source": [
    "df.replace(0,np.nan, inplace=True)"
   ]
  },
  {
   "cell_type": "code",
   "execution_count": 45,
   "id": "6ff0cdad",
   "metadata": {},
   "outputs": [
    {
     "data": {
      "text/plain": [
       "Outcome                     65.10\n",
       "Insulin                     48.70\n",
       "SkinThickness               29.56\n",
       "Pregnancies                 14.45\n",
       "BloodPressure                4.56\n",
       "BMI                          1.43\n",
       "Glucose                      0.65\n",
       "DiabetesPedigreeFunction     0.00\n",
       "Age                          0.00\n",
       "dtype: float64"
      ]
     },
     "execution_count": 45,
     "metadata": {},
     "output_type": "execute_result"
    }
   ],
   "source": [
    "(df.isna().mean() * 100).round(2).sort_values(ascending=False)"
   ]
  },
  {
   "cell_type": "code",
   "execution_count": 46,
   "id": "c5270c50",
   "metadata": {},
   "outputs": [
    {
     "name": "stdout",
     "output_type": "stream",
     "text": [
      "<class 'pandas.core.frame.DataFrame'>\n",
      "RangeIndex: 768 entries, 0 to 767\n",
      "Data columns (total 9 columns):\n",
      " #   Column                    Non-Null Count  Dtype  \n",
      "---  ------                    --------------  -----  \n",
      " 0   Pregnancies               657 non-null    float64\n",
      " 1   Glucose                   763 non-null    float64\n",
      " 2   BloodPressure             733 non-null    float64\n",
      " 3   SkinThickness             541 non-null    float64\n",
      " 4   Insulin                   394 non-null    float64\n",
      " 5   BMI                       757 non-null    float64\n",
      " 6   DiabetesPedigreeFunction  768 non-null    float64\n",
      " 7   Age                       768 non-null    int64  \n",
      " 8   Outcome                   268 non-null    float64\n",
      "dtypes: float64(8), int64(1)\n",
      "memory usage: 54.1 KB\n"
     ]
    }
   ],
   "source": [
    "df.info()"
   ]
  },
  {
   "cell_type": "markdown",
   "id": "20db0c60",
   "metadata": {},
   "source": [
    "## Analisiside cantidad de nulls"
   ]
  },
  {
   "cell_type": "code",
   "execution_count": 47,
   "id": "ecb3f0cc",
   "metadata": {},
   "outputs": [
    {
     "data": {
      "text/html": [
       "<div>\n",
       "<style scoped>\n",
       "    .dataframe tbody tr th:only-of-type {\n",
       "        vertical-align: middle;\n",
       "    }\n",
       "\n",
       "    .dataframe tbody tr th {\n",
       "        vertical-align: top;\n",
       "    }\n",
       "\n",
       "    .dataframe thead th {\n",
       "        text-align: right;\n",
       "    }\n",
       "</style>\n",
       "<table border=\"1\" class=\"dataframe\">\n",
       "  <thead>\n",
       "    <tr style=\"text-align: right;\">\n",
       "      <th></th>\n",
       "      <th>count</th>\n",
       "      <th>mean</th>\n",
       "      <th>std</th>\n",
       "      <th>min</th>\n",
       "      <th>25%</th>\n",
       "      <th>50%</th>\n",
       "      <th>75%</th>\n",
       "      <th>max</th>\n",
       "    </tr>\n",
       "  </thead>\n",
       "  <tbody>\n",
       "    <tr>\n",
       "      <th>Pregnancies</th>\n",
       "      <td>657.0</td>\n",
       "      <td>4.494673</td>\n",
       "      <td>3.217291</td>\n",
       "      <td>1.000</td>\n",
       "      <td>2.00000</td>\n",
       "      <td>4.0000</td>\n",
       "      <td>7.00000</td>\n",
       "      <td>17.00</td>\n",
       "    </tr>\n",
       "    <tr>\n",
       "      <th>Glucose</th>\n",
       "      <td>763.0</td>\n",
       "      <td>121.686763</td>\n",
       "      <td>30.535641</td>\n",
       "      <td>44.000</td>\n",
       "      <td>99.00000</td>\n",
       "      <td>117.0000</td>\n",
       "      <td>141.00000</td>\n",
       "      <td>199.00</td>\n",
       "    </tr>\n",
       "    <tr>\n",
       "      <th>BloodPressure</th>\n",
       "      <td>733.0</td>\n",
       "      <td>72.405184</td>\n",
       "      <td>12.382158</td>\n",
       "      <td>24.000</td>\n",
       "      <td>64.00000</td>\n",
       "      <td>72.0000</td>\n",
       "      <td>80.00000</td>\n",
       "      <td>122.00</td>\n",
       "    </tr>\n",
       "    <tr>\n",
       "      <th>SkinThickness</th>\n",
       "      <td>541.0</td>\n",
       "      <td>29.153420</td>\n",
       "      <td>10.476982</td>\n",
       "      <td>7.000</td>\n",
       "      <td>22.00000</td>\n",
       "      <td>29.0000</td>\n",
       "      <td>36.00000</td>\n",
       "      <td>99.00</td>\n",
       "    </tr>\n",
       "    <tr>\n",
       "      <th>Insulin</th>\n",
       "      <td>394.0</td>\n",
       "      <td>155.548223</td>\n",
       "      <td>118.775855</td>\n",
       "      <td>14.000</td>\n",
       "      <td>76.25000</td>\n",
       "      <td>125.0000</td>\n",
       "      <td>190.00000</td>\n",
       "      <td>846.00</td>\n",
       "    </tr>\n",
       "    <tr>\n",
       "      <th>BMI</th>\n",
       "      <td>757.0</td>\n",
       "      <td>32.457464</td>\n",
       "      <td>6.924988</td>\n",
       "      <td>18.200</td>\n",
       "      <td>27.50000</td>\n",
       "      <td>32.3000</td>\n",
       "      <td>36.60000</td>\n",
       "      <td>67.10</td>\n",
       "    </tr>\n",
       "    <tr>\n",
       "      <th>DiabetesPedigreeFunction</th>\n",
       "      <td>768.0</td>\n",
       "      <td>0.471876</td>\n",
       "      <td>0.331329</td>\n",
       "      <td>0.078</td>\n",
       "      <td>0.24375</td>\n",
       "      <td>0.3725</td>\n",
       "      <td>0.62625</td>\n",
       "      <td>2.42</td>\n",
       "    </tr>\n",
       "    <tr>\n",
       "      <th>Age</th>\n",
       "      <td>768.0</td>\n",
       "      <td>33.240885</td>\n",
       "      <td>11.760232</td>\n",
       "      <td>21.000</td>\n",
       "      <td>24.00000</td>\n",
       "      <td>29.0000</td>\n",
       "      <td>41.00000</td>\n",
       "      <td>81.00</td>\n",
       "    </tr>\n",
       "    <tr>\n",
       "      <th>Outcome</th>\n",
       "      <td>268.0</td>\n",
       "      <td>1.000000</td>\n",
       "      <td>0.000000</td>\n",
       "      <td>1.000</td>\n",
       "      <td>1.00000</td>\n",
       "      <td>1.0000</td>\n",
       "      <td>1.00000</td>\n",
       "      <td>1.00</td>\n",
       "    </tr>\n",
       "  </tbody>\n",
       "</table>\n",
       "</div>"
      ],
      "text/plain": [
       "                          count        mean         std     min       25%  \\\n",
       "Pregnancies               657.0    4.494673    3.217291   1.000   2.00000   \n",
       "Glucose                   763.0  121.686763   30.535641  44.000  99.00000   \n",
       "BloodPressure             733.0   72.405184   12.382158  24.000  64.00000   \n",
       "SkinThickness             541.0   29.153420   10.476982   7.000  22.00000   \n",
       "Insulin                   394.0  155.548223  118.775855  14.000  76.25000   \n",
       "BMI                       757.0   32.457464    6.924988  18.200  27.50000   \n",
       "DiabetesPedigreeFunction  768.0    0.471876    0.331329   0.078   0.24375   \n",
       "Age                       768.0   33.240885   11.760232  21.000  24.00000   \n",
       "Outcome                   268.0    1.000000    0.000000   1.000   1.00000   \n",
       "\n",
       "                               50%        75%     max  \n",
       "Pregnancies                 4.0000    7.00000   17.00  \n",
       "Glucose                   117.0000  141.00000  199.00  \n",
       "BloodPressure              72.0000   80.00000  122.00  \n",
       "SkinThickness              29.0000   36.00000   99.00  \n",
       "Insulin                   125.0000  190.00000  846.00  \n",
       "BMI                        32.3000   36.60000   67.10  \n",
       "DiabetesPedigreeFunction    0.3725    0.62625    2.42  \n",
       "Age                        29.0000   41.00000   81.00  \n",
       "Outcome                     1.0000    1.00000    1.00  "
      ]
     },
     "execution_count": 47,
     "metadata": {},
     "output_type": "execute_result"
    }
   ],
   "source": [
    "df.describe().T"
   ]
  },
  {
   "cell_type": "markdown",
   "id": "b921f922",
   "metadata": {},
   "source": [
    "## Imputacion por la mediana\n",
    "- Mediana vs Media(Promedio)\n",
    "\n",
    "Para un proyecto de machine learning, la elección entre media, moda y mediana depende del tipo de datos y del contexto específico. Te explico cuándo usar cada una:\n",
    "\n",
    "## **Media (Promedio)**\n",
    "**Cuándo usarla:**\n",
    "- Con datos numéricos continuos sin valores atípicos extremos\n",
    "- Cuando la distribución es aproximadamente normal\n",
    "- Para variables como edad, ingresos, temperatura, etc. (sin outliers)\n",
    "\n",
    "**Ejemplo:** Si tienes edades como [25, 28, 30, 32, 35], la media (30) representa bien el conjunto.\n",
    "\n",
    "## **Mediana**\n",
    "**Cuándo usarla:**\n",
    "- Con datos numéricos que tienen valores atípicos (outliers)\n",
    "- Cuando la distribución es sesgada\n",
    "- Para datos ordinales\n",
    "- Es más robusta ante valores extremos\n",
    "\n",
    "**Ejemplo:** En ingresos como [30K, 35K, 40K, 45K, 500K], la mediana (40K) es más representativa que la media (130K).\n",
    "\n",
    "## **Moda**\n",
    "**Cuándo usarla:**\n",
    "- Con datos categóricos (texto, etiquetas)\n",
    "- Con datos numéricos discretos donde buscas el valor más frecuente\n",
    "- Para variables como género, país, categoría de producto, etc.\n",
    "\n",
    "**Ejemplo:** En una columna de países [México, Argentina, México, Brasil, México], la moda es \"México\".\n",
    "\n",
    "## **Recomendaciones prácticas:**\n",
    "\n",
    "1. **Analiza primero la distribución** de tus datos con histogramas o boxplots\n",
    "2. **Detecta outliers** antes de decidir\n",
    "3. **Considera el contexto del negocio** - ¿qué medida tiene más sentido para tu problema?\n",
    "4. **Prueba diferentes enfoques** y evalúa el impacto en tu modelo\n"
   ]
  },
  {
   "cell_type": "code",
   "execution_count": 48,
   "id": "9ca1fd70",
   "metadata": {},
   "outputs": [],
   "source": [
    "import matplotlib.pyplot as plt\n",
    "\n",
    "def generar_distribuciones(df: pd.DataFrame) -> None:\n",
    "    fig = plt.figure(figsize=(16, 9))\n",
    "    df.hist(bins=20, figsize=(16, 9), layout=(3, 3), color='skyblue', alpha=0.7, edgecolor='black')\n",
    "    plt.suptitle('Distribuciones ', fontsize=16, y=1.02)\n",
    "    plt.tight_layout()\n",
    "    plt.show()"
   ]
  },
  {
   "cell_type": "code",
   "execution_count": 49,
   "id": "fa655e05",
   "metadata": {},
   "outputs": [],
   "source": [
    "medianas = df.median()"
   ]
  },
  {
   "cell_type": "code",
   "execution_count": 50,
   "id": "1bada4cb",
   "metadata": {},
   "outputs": [],
   "source": [
    "df_imputada_mediana = df.fillna(medianas)"
   ]
  },
  {
   "cell_type": "code",
   "execution_count": 39,
   "id": "32459ef7",
   "metadata": {},
   "outputs": [],
   "source": [
    "# generar_distribuciones(df_imputada_mediana)"
   ]
  },
  {
   "cell_type": "markdown",
   "id": "b95dcb3d",
   "metadata": {},
   "source": [
    "## Usando tecnicas mas eficientes dado a la cantidad de datos nulls"
   ]
  },
  {
   "cell_type": "code",
   "execution_count": 51,
   "id": "9839ba36",
   "metadata": {},
   "outputs": [],
   "source": [
    "# Imputacion por medio de Simple Imputer\n",
    "columna_simple_imputer = 'BMI'\n",
    "\n",
    "# Resto de columnas (excluyendo la 6 y 7, que son 'SkinThickness' y 'Insulin')\n",
    "columnas_knn_imputer = ['Glucose', 'BloodPressure']"
   ]
  },
  {
   "cell_type": "code",
   "execution_count": null,
   "id": "63902347",
   "metadata": {},
   "outputs": [],
   "source": [
    "# Crear una copia del dataframe para no modificar el original\n",
    "df_imputed = df.copy()\n",
    "\n",
    "# 1. Aplicar SimpleImputer a la columna 'BMI'\n",
    "imputer_simple = SimpleImputer(strategy='median')\n",
    "df_imputed[[columna_simple_imputer]] = imputer_simple.fit_transform(df_imputed[[columna_simple_imputer]])\n",
    "\n",
    "# 2. Aplicar KNNImputer al resto de las columnas\n",
    "imputer_knn = KNNImputer(n_neighbors=5)\n",
    "df_imputed[columnas_knn_imputer] = imputer_knn.fit_transform(df_imputed[columnas_knn_imputer])\n",
    "\n",
    "print(\"DataFrame con valores nulos imputados:\")\n",
    "print(df_imputed.isnull().sum())"
   ]
  }
 ],
 "metadata": {
  "kernelspec": {
   "display_name": "77695-data-science-i-flex",
   "language": "python",
   "name": "python3"
  },
  "language_info": {
   "codemirror_mode": {
    "name": "ipython",
    "version": 3
   },
   "file_extension": ".py",
   "mimetype": "text/x-python",
   "name": "python",
   "nbconvert_exporter": "python",
   "pygments_lexer": "ipython3",
   "version": "3.11.2"
  }
 },
 "nbformat": 4,
 "nbformat_minor": 5
}
