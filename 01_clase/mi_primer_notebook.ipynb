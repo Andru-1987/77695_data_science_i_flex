{
  "nbformat": 4,
  "nbformat_minor": 0,
  "metadata": {
    "colab": {
      "provenance": [],
      "authorship_tag": "ABX9TyMBY7UQDIcWZ9kH94y/SUB1",
      "include_colab_link": true
    },
    "kernelspec": {
      "name": "python3",
      "display_name": "Python 3"
    },
    "language_info": {
      "name": "python"
    }
  },
  "cells": [
    {
      "cell_type": "markdown",
      "metadata": {
        "id": "view-in-github",
        "colab_type": "text"
      },
      "source": [
        "<a href=\"https://colab.research.google.com/github/Andru-1987/77695_data_science_i_flex/blob/main/01_clase/mi_primer_notebook.ipynb\" target=\"_parent\"><img src=\"https://colab.research.google.com/assets/colab-badge.svg\" alt=\"Open In Colab\"/></a>"
      ]
    },
    {
      "cell_type": "markdown",
      "source": [
        "# Mi primer programa! Soy un Crack!"
      ],
      "metadata": {
        "id": "WNEfSeb-rKSO"
      }
    },
    {
      "cell_type": "code",
      "execution_count": 1,
      "metadata": {
        "colab": {
          "base_uri": "https://localhost:8080/"
        },
        "id": "5TVvK7NmqBoh",
        "outputId": "1ccc8626-d4d2-40ce-fc57-e364716e5791"
      },
      "outputs": [
        {
          "output_type": "stream",
          "name": "stdout",
          "text": [
            "Hello world!!\n"
          ]
        }
      ],
      "source": [
        "print(\"Hello world!!\")"
      ]
    },
    {
      "cell_type": "code",
      "source": [
        "! ls -la"
      ],
      "metadata": {
        "colab": {
          "base_uri": "https://localhost:8080/"
        },
        "id": "njB5-JrBshLJ",
        "outputId": "e6f0fe47-cabf-4135-f661-6c8ea6b21b7b"
      },
      "execution_count": 2,
      "outputs": [
        {
          "output_type": "stream",
          "name": "stdout",
          "text": [
            "total 16\n",
            "drwxr-xr-x 1 root root 4096 Aug  8 20:22 .\n",
            "drwxr-xr-x 1 root root 4096 Aug 12 00:21 ..\n",
            "drwxr-xr-x 4 root root 4096 Aug  8 20:22 .config\n",
            "drwxr-xr-x 1 root root 4096 Aug  8 20:22 sample_data\n"
          ]
        }
      ]
    },
    {
      "cell_type": "markdown",
      "source": [],
      "metadata": {
        "id": "mvai1v2BsnJb"
      }
    }
  ]
}