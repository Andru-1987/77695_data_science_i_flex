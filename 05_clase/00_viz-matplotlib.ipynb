{
 "cells": [
  {
   "cell_type": "markdown",
   "id": "3348a848",
   "metadata": {},
   "source": [
    "Bases de una Viz"
   ]
  },
  {
   "cell_type": "code",
   "execution_count": null,
   "id": "4d003101",
   "metadata": {},
   "outputs": [],
   "source": [
    "import matplotlib.pyplot as plt\n",
    "import numpy as np\n",
    "import pandas as pd"
   ]
  },
  {
   "cell_type": "code",
   "execution_count": null,
   "id": "15ef394f",
   "metadata": {},
   "outputs": [],
   "source": [
    "x = np.linspace(-10, 10, 500)\n",
    "y = np.tanh(x)\n",
    "data = pd.DataFrame({ \"x\":x, \"y\":y})"
   ]
  },
  {
   "cell_type": "code",
   "execution_count": null,
   "id": "3d1106d3",
   "metadata": {},
   "outputs": [],
   "source": [
    "data"
   ]
  },
  {
   "cell_type": "code",
   "execution_count": null,
   "id": "dd770efa",
   "metadata": {},
   "outputs": [],
   "source": [
    "plt.figure(figsize=(8,4))\n",
    "plt.plot(data.x,data.y, label='Seno(x)', color=\"blue\",linestyle=\"-\")\n",
    "plt.title(\"Grafico de funcion senoidal\")\n",
    "plt.xlabel(\"Tiempo\")\n",
    "plt.ylabel(\"Amplitud\")\n",
    "\n",
    "plt.xlim(-15, 15)\n",
    "plt.ylim(-1.5, 1.5)\n",
    "\n",
    "plt.text(5, 0.5, r\"$\\sigma(z) = \\frac{e^z - e^{-z}}{e^z + e^{-z}}$\", fontsize=16)\n",
    "\n",
    "\n",
    "plt.grid(True, alpha=0.3)\n",
    "plt.tight_layout()\n",
    "plt.legend()\n",
    "plt.show()"
   ]
  },
  {
   "cell_type": "code",
   "execution_count": null,
   "id": "60276027",
   "metadata": {},
   "outputs": [],
   "source": [
    "np.random.seed(42)\n",
    "x = np.random.rand(50)\n",
    "y = 2 * x + 1 + np.random.normal(scale=0.1, size=50)\n",
    "\n",
    "# Línea de regresión esperada\n",
    "x_line = np.linspace(0, 1, 100)\n",
    "y_line = 2 * x_line + 1\n",
    "\n",
    "# Crear scatter + línea\n",
    "plt.figure(figsize=(6, 4))\n",
    "plt.scatter(x, y, label='Datos', color='darkorange')\n",
    "plt.plot(x_line, y_line, color='blue', label='y = 2x + 1')\n",
    "plt.title('Scatterplot con línea superpuesta')\n",
    "plt.xlabel('x')\n",
    "plt.ylabel('y')\n",
    "plt.legend()\n",
    "plt.grid(True)\n",
    "plt.tight_layout()\n",
    "plt.show()"
   ]
  },
  {
   "cell_type": "code",
   "execution_count": null,
   "id": "b5e74b88",
   "metadata": {},
   "outputs": [],
   "source": [
    "fig, axs = plt.subplots(1, 3, figsize=(15, 4))\n",
    "\n",
    "# 1. Scatterplot\n",
    "axs[0].scatter(x, y, color='darkorange')\n",
    "axs[0].plot(x_line, y_line, color='blue')\n",
    "axs[0].set_title('Scatterplot')\n",
    "axs[0].set_xlabel('x')\n",
    "axs[0].set_ylabel('y')\n",
    "axs[0].grid(True)\n",
    "\n",
    "# 2. Histograma\n",
    "axs[1].hist(y, bins=10, color='green', alpha=0.7)\n",
    "axs[1].set_title('Histograma de y')\n",
    "axs[1].set_xlabel('y')\n",
    "axs[1].set_ylabel('Frecuencia')\n",
    "axs[1].grid(True)\n",
    "\n",
    "# 3. Función tanh\n",
    "axs[2].plot(data.x,data.y, color='purple')\n",
    "axs[2].set_ylim(-1.5,1.5)\n",
    "axs[2].set_xlim(-15,15)\n",
    "axs[2].set_title('Función Tangente Hiperbolica')\n",
    "axs[2].set_xlabel('x')\n",
    "axs[2].set_ylabel('tanh(x)')\n",
    "axs[2].grid(True)\n",
    "\n",
    "plt.tight_layout()\n",
    "plt.show()"
   ]
  }
 ],
 "metadata": {
  "kernelspec": {
   "display_name": "Python 3",
   "language": "python",
   "name": "python3"
  },
  "language_info": {
   "codemirror_mode": {
    "name": "ipython",
    "version": 3
   },
   "file_extension": ".py",
   "mimetype": "text/x-python",
   "name": "python",
   "nbconvert_exporter": "python",
   "pygments_lexer": "ipython3",
   "version": "3.13.3"
  }
 },
 "nbformat": 4,
 "nbformat_minor": 5
}
