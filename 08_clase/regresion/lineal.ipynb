{
 "cells": [
  {
   "cell_type": "markdown",
   "id": "e7bcbd71",
   "metadata": {},
   "source": [
    "##  Pregunta de rigor:\n",
    "\n",
    "_Imaginemos que trabajamos para una compañía que vende productos de primera necesidad. Si nos piden que desarrollemos un algoritmo que obtenga la propensión (similar a probabilidad) para clientes a la marca, ¿tendría sentido usar un modelo de regresión?_\n",
    "\n",
    "\n",
    "Imaginemos que la compañía quiere saber **qué tan probable es que un cliente elija nuestra marca frente a la competencia**. Esa *propensión* se parece mucho a una **probabilidad** (un valor entre 0 y 1).\n",
    "\n",
    "Ejemplo:\n",
    "\n",
    "* Cliente A → 0.85 (muy adherido a la marca)\n",
    "* Cliente B → 0.20 (poco adherido)\n",
    "\n",
    "---\n",
    "\n",
    "## ¿Sirve un modelo de regresión?\n",
    "\n",
    "Sí, pero depende de qué tipo de regresión:\n",
    "\n",
    "### 1. **Regresión lineal simple/múltiple**\n",
    "\n",
    "* **Problema**: la regresión lineal puede dar valores negativos o mayores a 1 → no tiene sentido para una probabilidad.\n",
    "* Se puede usar como aproximación, pero no es la más correcta.\n",
    "\n",
    "### 2. **Regresión logística**\n",
    "\n",
    "* **Ideal para este caso**: transforma cualquier combinación de variables (edad, ingresos, historial de compras, frecuencia de compra, etc.) en un valor entre **0 y 1**.\n",
    "* Ese valor se interpreta como la **propensión o probabilidad de adherencia**.\n",
    "\n",
    "[\n",
    "P(\\text{elige la marca}) = \\frac{1}{1+e^{-(\\beta_0 + \\beta_1x_1 + \\beta_2x_2 + \\dots + \\beta_nx_n)}}\n",
    "]\n",
    "\n",
    "Donde:\n",
    "\n",
    "* ( P(\\text{elige la marca}) ) → probabilidad (propensión) de que el cliente elija la marca.\n",
    "* ( \\beta_0 ) → intercepto.\n",
    "* ( \\beta_i ) → peso de cada variable explicativa.\n",
    "* ( x_i ) → variables (ejemplo: frecuencia de compra, gasto mensual, antigüedad, etc.).\n",
    "\n",
    "\n",
    "\n",
    "* Si ( P > 0.5 ) → cliente con alta propensión.\n",
    "* Si ( P < 0.5 ) → cliente con baja propensión.\n",
    "\n",
    "---\n",
    "\n",
    "## Conclusion\n",
    "\n",
    "* **Sí tiene sentido hablar de regresión, pero no de la lineal clásica.**\n",
    "* Para modelar **propensión/adherencia**, lo más común es usar **regresión logística**.\n",
    "* Esto permite obtener una probabilidad interpretable y utilizarla para:\n",
    "\n",
    "  * segmentar clientes,\n",
    "  * diseñar campañas de marketing,\n",
    "  * priorizar descuentos/promos.\n",
    "\n",
    "---\n",
    "\n",
    "Pregunta extra:\n",
    "Si tuvieran un dataset con variables como **frecuencia de compra**, **gasto mensual**, **antigüedad como cliente**, ¿qué usarían: regresión lineal o logística? ¿Por qué?"
   ]
  },
  {
   "cell_type": "markdown",
   "id": "3d04719e",
   "metadata": {},
   "source": [
    "## Propensión a elegir la marca\n",
    "\n",
    "Supongamos que tenemos un dataset con:\n",
    "\n",
    "* `frecuencia_compras` → cuántas veces al mes compra un cliente.\n",
    "* `gasto_mensual` → cuánto gasta en promedio.\n",
    "* `elige_marca` → 1 si compra nuestra marca, 0 si no."
   ]
  },
  {
   "cell_type": "code",
   "execution_count": null,
   "id": "6a2f5266",
   "metadata": {},
   "outputs": [],
   "source": [
    "import numpy as np\n",
    "import pandas as pd\n",
    "import matplotlib.pyplot as plt\n",
    "from sklearn.linear_model import LinearRegression, LogisticRegression"
   ]
  },
  {
   "cell_type": "code",
   "execution_count": null,
   "id": "e415cb72",
   "metadata": {},
   "outputs": [],
   "source": [
    "# 1. Creamos datos simulados\n",
    "np.random.seed(42)\n",
    "n = 100\n",
    "\n",
    "frecuencia = np.random.randint(1, 15, n)\n",
    "gasto = np.random.randint(100, 1000, n)\n",
    "\n",
    "# Probabilidad \"real\" de elegir la marca (función logística simulada)\n",
    "prob = 1 / (1 + np.exp(-(0.3*frecuencia + 0.002*gasto - 4)))\n",
    "elige = np.random.binomial(1, prob)\n",
    "\n",
    "df = pd.DataFrame({\n",
    "    \"frecuencia_compras\": frecuencia,\n",
    "    \"gasto_mensual\": gasto,\n",
    "    \"elige_marca\": elige\n",
    "})\n",
    "\n",
    "df.head()\n"
   ]
  },
  {
   "cell_type": "code",
   "execution_count": null,
   "id": "937be53e",
   "metadata": {},
   "outputs": [],
   "source": [
    "# 2. Regresión Lineal\n",
    "X = df[[\"frecuencia_compras\", \"gasto_mensual\"]]\n",
    "y = df[\"elige_marca\"]\n",
    "\n",
    "linear_model = LinearRegression().fit(X, y)\n",
    "df[\"pred_lineal\"] = linear_model.predict(X)\n",
    "\n",
    "# 3. Regresión Logística\n",
    "logit_model = LogisticRegression().fit(X, y)\n",
    "df[\"pred_logistica\"] = logit_model.predict_proba(X)[:, 1]\n",
    "\n",
    "# 4. Comparación gráfica\n",
    "plt.figure(figsize=(10,5))\n",
    "\n",
    "plt.scatter(df[\"frecuencia_compras\"], df[\"elige_marca\"], c=\"black\", label=\"Datos reales\")\n",
    "plt.scatter(df[\"frecuencia_compras\"], df[\"pred_lineal\"], c=\"red\", alpha=0.6, label=\"Regresión Lineal\")\n",
    "plt.scatter(df[\"frecuencia_compras\"], df[\"pred_logistica\"], c=\"blue\", alpha=0.6, label=\"Regresión Logística\")\n",
    "\n",
    "plt.xlabel(\"Frecuencia de compras\")\n",
    "plt.ylabel(\"Propensión a la marca\")\n",
    "plt.legend()\n",
    "plt.title(\"Comparación: Regresión Lineal vs Logística\")\n",
    "plt.show()\n",
    "\n"
   ]
  },
  {
   "cell_type": "markdown",
   "id": "68defa0b",
   "metadata": {},
   "source": [
    "* **Regresión lineal (rojo):** puede dar valores negativos o mayores a 1 (no sirven como probabilidades).\n",
    "* **Regresión logística (azul):** ajusta en la curva S entre 0 y 1 → perfecto para interpretar como **propensión**.\n",
    "* **Datos reales (negro):** puntos 0 o 1 (compró/no compró la marca)."
   ]
  },
  {
   "cell_type": "markdown",
   "id": "2c8ee60d",
   "metadata": {},
   "source": [
    "### Conclusion! \n",
    "*\"La regresión logística nos permite predecir probabilidades (propensión), mientras que la lineal no es la mejor opción en este caso.\"*\n"
   ]
  }
 ],
 "metadata": {
  "kernelspec": {
   "display_name": "77695-data-science-i-flex",
   "language": "python",
   "name": "python3"
  },
  "language_info": {
   "codemirror_mode": {
    "name": "ipython",
    "version": 3
   },
   "file_extension": ".py",
   "mimetype": "text/x-python",
   "name": "python",
   "nbconvert_exporter": "python",
   "pygments_lexer": "ipython3",
   "version": "3.11.13"
  }
 },
 "nbformat": 4,
 "nbformat_minor": 5
}
