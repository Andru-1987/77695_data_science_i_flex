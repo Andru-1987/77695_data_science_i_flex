{
  "nbformat": 4,
  "nbformat_minor": 0,
  "metadata": {
    "colab": {
      "provenance": [],
      "authorship_tag": "ABX9TyNQ2BJAWvFTQVAOtffre78O",
      "include_colab_link": true
    },
    "kernelspec": {
      "name": "python3",
      "display_name": "Python 3"
    },
    "language_info": {
      "name": "python"
    }
  },
  "cells": [
    {
      "cell_type": "markdown",
      "metadata": {
        "id": "view-in-github",
        "colab_type": "text"
      },
      "source": [
        "<a href=\"https://colab.research.google.com/github/Andru-1987/77695_data_science_i_flex/blob/main/02_clase/intro_python.ipynb\" target=\"_parent\"><img src=\"https://colab.research.google.com/assets/colab-badge.svg\" alt=\"Open In Colab\"/></a>"
      ]
    },
    {
      "cell_type": "markdown",
      "source": [
        "# Hola soy otro encabezao\n",
        "---\n",
        "- tareas:\n",
        "    - almacenar texto en una variable\n",
        "    - crear un array | lista | tuplas | vectores\n",
        "    - functions"
      ],
      "metadata": {
        "id": "q-c1GklMl5Te"
      }
    },
    {
      "cell_type": "code",
      "execution_count": 1,
      "metadata": {
        "colab": {
          "base_uri": "https://localhost:8080/"
        },
        "id": "LhnP8c2vlfhW",
        "outputId": "dcf03b23-0c75-479f-830b-792fba14f844"
      },
      "outputs": [
        {
          "output_type": "stream",
          "name": "stdout",
          "text": [
            "Hola, mundo!\n"
          ]
        }
      ],
      "source": [
        "print(\"Hola, mundo!\")"
      ]
    },
    {
      "cell_type": "code",
      "source": [
        "mi_primer_variable = None"
      ],
      "metadata": {
        "id": "iuAmQfyNnhXs"
      },
      "execution_count": 2,
      "outputs": []
    },
    {
      "cell_type": "code",
      "source": [
        "mi_primer_variable = \"Pele!\"\n",
        "\n",
        "print(mi_primer_variable)"
      ],
      "metadata": {
        "colab": {
          "base_uri": "https://localhost:8080/"
        },
        "id": "OvDKomRXoDRr",
        "outputId": "662fdb86-b9f7-46a5-af29-cc496c1abbda"
      },
      "execution_count": 3,
      "outputs": [
        {
          "output_type": "stream",
          "name": "stdout",
          "text": [
            "Pele!\n"
          ]
        }
      ]
    },
    {
      "cell_type": "code",
      "source": [
        "mi_primer_variable:str = 10000000\n",
        "\n",
        "print(mi_primer_variable)"
      ],
      "metadata": {
        "colab": {
          "base_uri": "https://localhost:8080/"
        },
        "id": "0fd2lPLuogue",
        "outputId": "d5dc669c-5bb9-4bde-e2ec-01f9fffd251e"
      },
      "execution_count": 4,
      "outputs": [
        {
          "output_type": "stream",
          "name": "stdout",
          "text": [
            "10000000\n"
          ]
        }
      ]
    },
    {
      "cell_type": "markdown",
      "source": [
        "Vamos a hacer a un saludador"
      ],
      "metadata": {
        "id": "jvGD4f9GpVR_"
      }
    },
    {
      "cell_type": "code",
      "source": [
        "# nombre:str = input(\"Me podrias indicar tu nombre?:\\t\")\n",
        "\n",
        "# saludo = \"Hola, amigo, tu nombre es:\"  + nombre  ## concatenacion de strings\n",
        "\n",
        "# saludo"
      ],
      "metadata": {
        "id": "aioNa-MlpU29"
      },
      "execution_count": 5,
      "outputs": []
    },
    {
      "cell_type": "code",
      "source": [
        "# Sumatoria hasta el numero 2_000 PEROOOO numeros impares\n",
        "\n",
        "numeros = list(range(1, 2_000,2))\n",
        "sumatoria = sum(numeros)\n",
        "\n",
        "sumatoria"
      ],
      "metadata": {
        "colab": {
          "base_uri": "https://localhost:8080/"
        },
        "id": "8yEKhD6Qq1-k",
        "outputId": "5286ff30-b204-41d5-f41e-ce07bcc2ea9e"
      },
      "execution_count": 6,
      "outputs": [
        {
          "output_type": "execute_result",
          "data": {
            "text/plain": [
              "1000000"
            ]
          },
          "metadata": {},
          "execution_count": 6
        }
      ]
    },
    {
      "cell_type": "code",
      "source": [
        "import math\n",
        "import random\n"
      ],
      "metadata": {
        "id": "0IHggD9ct4gT"
      },
      "execution_count": 7,
      "outputs": []
    },
    {
      "cell_type": "code",
      "source": [
        "# math.pi  *\n",
        "\n",
        "\n",
        "variable_iteracion = []\n",
        "\n",
        "for numero_rango in list(range(1,100)):\n",
        "    nunmero_aleatorio = random.random() * numero_rango\n",
        "    variable_iteracion.append(nunmero_aleatorio)\n"
      ],
      "metadata": {
        "id": "j_JGpGH3tIOj"
      },
      "execution_count": 10,
      "outputs": []
    },
    {
      "cell_type": "code",
      "source": [
        "contador = 0\n",
        "variable_mostrar = variable_iteracion[contador]\n",
        "\n",
        "while  variable_mostrar < 30 :\n",
        "    print(variable_mostrar)\n",
        "    contador = contador + 1\n",
        "    variable_mostrar = variable_iteracion[contador]\n",
        "else:\n",
        "    print(\"Ya estoy afuera y el siguiente numero va a ser mayor a 30\")"
      ],
      "metadata": {
        "colab": {
          "base_uri": "https://localhost:8080/"
        },
        "id": "hA2KhcQ6w4AI",
        "outputId": "4e34ef5e-b559-462d-8ee7-9d45e83cfac9"
      },
      "execution_count": 14,
      "outputs": [
        {
          "output_type": "stream",
          "name": "stdout",
          "text": [
            "0.3527960254624507\n",
            "0.29195509091299643\n",
            "0.4727621071875934\n",
            "1.4185566810609749\n",
            "0.24922426199651349\n",
            "2.566717282604775\n",
            "3.6793758639506726\n",
            "5.287586544640838\n",
            "8.341938422712685\n",
            "2.4626517145431928\n",
            "4.915430864020126\n",
            "5.350233296719822\n",
            "11.139734766444608\n",
            "2.9717888378223787\n",
            "13.220056710911987\n",
            "1.7576421387854069\n",
            "3.235752452498416\n",
            "11.990842535186436\n",
            "9.10294814227535\n",
            "14.003181008024798\n",
            "1.4108770735942748\n",
            "6.2526997376384355\n",
            "8.51930505467881\n",
            "11.839472456423632\n",
            "14.93295525324485\n",
            "16.18491198762651\n",
            "23.05970862434529\n",
            "6.20125415706938\n",
            "11.96785768965063\n",
            "23.39044723244241\n",
            "26.274515001257736\n",
            "13.011498814320074\n",
            "16.356690597826304\n",
            "19.83674548701432\n",
            "Ya estoy afuera y el siguiente numero va a ser mayor a 30\n"
          ]
        }
      ]
    },
    {
      "cell_type": "code",
      "source": [
        "## functions -> bloques determinados  por una retorno de valor y por medio de paramos de entrada\n",
        "# definen su comportamiento\n",
        "\n",
        "def breaker_printer( lista_iterable:list, tope: int) -> str:\n",
        "\n",
        "    contador = 0\n",
        "    while  lista_iterable[contador] < tope :\n",
        "        print(f\"El numero de iteracion es: {contador} -> su valor es: \\t  {lista_iterable[contador]:.3f}\")\n",
        "        contador += 1\n",
        "    else:\n",
        "        return f\"Ya estoy afuera y el siguiente numero va a ser mayor a {tope}\"\n"
      ],
      "metadata": {
        "id": "1NGl-0noyV4c"
      },
      "execution_count": 23,
      "outputs": []
    },
    {
      "cell_type": "code",
      "source": [
        "\n",
        "breaker_printer(variable_iteracion, 30)\n"
      ],
      "metadata": {
        "colab": {
          "base_uri": "https://localhost:8080/",
          "height": 643
        },
        "id": "F-_qUmMR0OjY",
        "outputId": "6f860ad7-e5b5-446e-cb52-9d952f54a953"
      },
      "execution_count": 24,
      "outputs": [
        {
          "output_type": "stream",
          "name": "stdout",
          "text": [
            "El numero de iteracion es: 0 -> su valor es: \t  0.353\n",
            "El numero de iteracion es: 1 -> su valor es: \t  0.292\n",
            "El numero de iteracion es: 2 -> su valor es: \t  0.473\n",
            "El numero de iteracion es: 3 -> su valor es: \t  1.419\n",
            "El numero de iteracion es: 4 -> su valor es: \t  0.249\n",
            "El numero de iteracion es: 5 -> su valor es: \t  2.567\n",
            "El numero de iteracion es: 6 -> su valor es: \t  3.679\n",
            "El numero de iteracion es: 7 -> su valor es: \t  5.288\n",
            "El numero de iteracion es: 8 -> su valor es: \t  8.342\n",
            "El numero de iteracion es: 9 -> su valor es: \t  2.463\n",
            "El numero de iteracion es: 10 -> su valor es: \t  4.915\n",
            "El numero de iteracion es: 11 -> su valor es: \t  5.350\n",
            "El numero de iteracion es: 12 -> su valor es: \t  11.140\n",
            "El numero de iteracion es: 13 -> su valor es: \t  2.972\n",
            "El numero de iteracion es: 14 -> su valor es: \t  13.220\n",
            "El numero de iteracion es: 15 -> su valor es: \t  1.758\n",
            "El numero de iteracion es: 16 -> su valor es: \t  3.236\n",
            "El numero de iteracion es: 17 -> su valor es: \t  11.991\n",
            "El numero de iteracion es: 18 -> su valor es: \t  9.103\n",
            "El numero de iteracion es: 19 -> su valor es: \t  14.003\n",
            "El numero de iteracion es: 20 -> su valor es: \t  1.411\n",
            "El numero de iteracion es: 21 -> su valor es: \t  6.253\n",
            "El numero de iteracion es: 22 -> su valor es: \t  8.519\n",
            "El numero de iteracion es: 23 -> su valor es: \t  11.839\n",
            "El numero de iteracion es: 24 -> su valor es: \t  14.933\n",
            "El numero de iteracion es: 25 -> su valor es: \t  16.185\n",
            "El numero de iteracion es: 26 -> su valor es: \t  23.060\n",
            "El numero de iteracion es: 27 -> su valor es: \t  6.201\n",
            "El numero de iteracion es: 28 -> su valor es: \t  11.968\n",
            "El numero de iteracion es: 29 -> su valor es: \t  23.390\n",
            "El numero de iteracion es: 30 -> su valor es: \t  26.275\n",
            "El numero de iteracion es: 31 -> su valor es: \t  13.011\n",
            "El numero de iteracion es: 32 -> su valor es: \t  16.357\n",
            "El numero de iteracion es: 33 -> su valor es: \t  19.837\n"
          ]
        },
        {
          "output_type": "execute_result",
          "data": {
            "text/plain": [
              "'Ya estoy afuera y el siguiente numero va a ser mayor a 30'"
            ],
            "application/vnd.google.colaboratory.intrinsic+json": {
              "type": "string"
            }
          },
          "metadata": {},
          "execution_count": 24
        }
      ]
    },
    {
      "cell_type": "code",
      "source": [
        "breaker_printer(variable_iteracion, 40)"
      ],
      "metadata": {
        "colab": {
          "base_uri": "https://localhost:8080/",
          "height": 875
        },
        "id": "MT_XTrDM2Koq",
        "outputId": "9bf87a2e-a040-4b93-a1c7-00c38eb11bd6"
      },
      "execution_count": 25,
      "outputs": [
        {
          "output_type": "stream",
          "name": "stdout",
          "text": [
            "El numero de iteracion es: 0 -> su valor es: \t  0.353\n",
            "El numero de iteracion es: 1 -> su valor es: \t  0.292\n",
            "El numero de iteracion es: 2 -> su valor es: \t  0.473\n",
            "El numero de iteracion es: 3 -> su valor es: \t  1.419\n",
            "El numero de iteracion es: 4 -> su valor es: \t  0.249\n",
            "El numero de iteracion es: 5 -> su valor es: \t  2.567\n",
            "El numero de iteracion es: 6 -> su valor es: \t  3.679\n",
            "El numero de iteracion es: 7 -> su valor es: \t  5.288\n",
            "El numero de iteracion es: 8 -> su valor es: \t  8.342\n",
            "El numero de iteracion es: 9 -> su valor es: \t  2.463\n",
            "El numero de iteracion es: 10 -> su valor es: \t  4.915\n",
            "El numero de iteracion es: 11 -> su valor es: \t  5.350\n",
            "El numero de iteracion es: 12 -> su valor es: \t  11.140\n",
            "El numero de iteracion es: 13 -> su valor es: \t  2.972\n",
            "El numero de iteracion es: 14 -> su valor es: \t  13.220\n",
            "El numero de iteracion es: 15 -> su valor es: \t  1.758\n",
            "El numero de iteracion es: 16 -> su valor es: \t  3.236\n",
            "El numero de iteracion es: 17 -> su valor es: \t  11.991\n",
            "El numero de iteracion es: 18 -> su valor es: \t  9.103\n",
            "El numero de iteracion es: 19 -> su valor es: \t  14.003\n",
            "El numero de iteracion es: 20 -> su valor es: \t  1.411\n",
            "El numero de iteracion es: 21 -> su valor es: \t  6.253\n",
            "El numero de iteracion es: 22 -> su valor es: \t  8.519\n",
            "El numero de iteracion es: 23 -> su valor es: \t  11.839\n",
            "El numero de iteracion es: 24 -> su valor es: \t  14.933\n",
            "El numero de iteracion es: 25 -> su valor es: \t  16.185\n",
            "El numero de iteracion es: 26 -> su valor es: \t  23.060\n",
            "El numero de iteracion es: 27 -> su valor es: \t  6.201\n",
            "El numero de iteracion es: 28 -> su valor es: \t  11.968\n",
            "El numero de iteracion es: 29 -> su valor es: \t  23.390\n",
            "El numero de iteracion es: 30 -> su valor es: \t  26.275\n",
            "El numero de iteracion es: 31 -> su valor es: \t  13.011\n",
            "El numero de iteracion es: 32 -> su valor es: \t  16.357\n",
            "El numero de iteracion es: 33 -> su valor es: \t  19.837\n",
            "El numero de iteracion es: 34 -> su valor es: \t  34.199\n",
            "El numero de iteracion es: 35 -> su valor es: \t  34.524\n",
            "El numero de iteracion es: 36 -> su valor es: \t  1.647\n",
            "El numero de iteracion es: 37 -> su valor es: \t  19.558\n",
            "El numero de iteracion es: 38 -> su valor es: \t  25.195\n",
            "El numero de iteracion es: 39 -> su valor es: \t  9.687\n",
            "El numero de iteracion es: 40 -> su valor es: \t  13.975\n",
            "El numero de iteracion es: 41 -> su valor es: \t  35.819\n",
            "El numero de iteracion es: 42 -> su valor es: \t  36.965\n",
            "El numero de iteracion es: 43 -> su valor es: \t  3.922\n",
            "El numero de iteracion es: 44 -> su valor es: \t  17.442\n",
            "El numero de iteracion es: 45 -> su valor es: \t  18.189\n",
            "El numero de iteracion es: 46 -> su valor es: \t  8.310\n"
          ]
        },
        {
          "output_type": "execute_result",
          "data": {
            "text/plain": [
              "'Ya estoy afuera y el siguiente numero va a ser mayor a 40'"
            ],
            "application/vnd.google.colaboratory.intrinsic+json": {
              "type": "string"
            }
          },
          "metadata": {},
          "execution_count": 25
        }
      ]
    },
    {
      "cell_type": "code",
      "source": [
        "iterable = [ x for x in random.sample(range(1, 100), 50)]\n",
        "\n",
        "# una funcion que me otorgue el valor maximo\n",
        "\n",
        "\n",
        "def valor_max( x:list ) -> int :\n",
        "    maximo = x[0]\n",
        "\n",
        "    for numero in x:\n",
        "        if numero > maximo:\n",
        "            maximo = numero\n",
        "\n",
        "    return maximo\n",
        "\n",
        "\n",
        "valor_max(iterable)"
      ],
      "metadata": {
        "colab": {
          "base_uri": "https://localhost:8080/"
        },
        "id": "qnQCGETs3_Zg",
        "outputId": "35a2f05d-454b-4bab-ebd4-2d4f9f7f9a99"
      },
      "execution_count": 37,
      "outputs": [
        {
          "output_type": "execute_result",
          "data": {
            "text/plain": [
              "98"
            ]
          },
          "metadata": {},
          "execution_count": 37
        }
      ]
    }
  ]
}